{
 "cells": [
  {
   "cell_type": "markdown",
   "metadata": {},
   "source": [
    "# Preprocessing Files"
   ]
  },
  {
   "cell_type": "markdown",
   "metadata": {},
   "source": [
    "#### Import Python packages "
   ]
  },
  {
   "cell_type": "code",
   "execution_count": 1,
   "metadata": {},
   "outputs": [],
   "source": [
    "import pandas as pd\n",
    "import cassandra\n",
    "import re\n",
    "import os\n",
    "import glob\n",
    "import numpy as np\n",
    "import json\n",
    "import csv"
   ]
  },
  {
   "cell_type": "markdown",
   "metadata": {},
   "source": [
    "#### Creating list of filepaths to process original event csv data files"
   ]
  },
  {
   "cell_type": "code",
   "execution_count": 2,
   "metadata": {},
   "outputs": [
    {
     "name": "stdout",
     "output_type": "stream",
     "text": [
      "/home/workspace\n",
      "['/home/workspace/event_data/2018-11-30-events.csv', '/home/workspace/event_data/2018-11-23-events.csv', '/home/workspace/event_data/2018-11-22-events.csv', '/home/workspace/event_data/2018-11-29-events.csv', '/home/workspace/event_data/2018-11-11-events.csv', '/home/workspace/event_data/2018-11-14-events.csv', '/home/workspace/event_data/2018-11-20-events.csv', '/home/workspace/event_data/2018-11-15-events.csv', '/home/workspace/event_data/2018-11-05-events.csv', '/home/workspace/event_data/2018-11-28-events.csv', '/home/workspace/event_data/2018-11-25-events.csv', '/home/workspace/event_data/2018-11-16-events.csv', '/home/workspace/event_data/2018-11-18-events.csv', '/home/workspace/event_data/2018-11-24-events.csv', '/home/workspace/event_data/2018-11-04-events.csv', '/home/workspace/event_data/2018-11-19-events.csv', '/home/workspace/event_data/2018-11-26-events.csv', '/home/workspace/event_data/2018-11-12-events.csv', '/home/workspace/event_data/2018-11-27-events.csv', '/home/workspace/event_data/2018-11-06-events.csv', '/home/workspace/event_data/2018-11-09-events.csv', '/home/workspace/event_data/2018-11-03-events.csv', '/home/workspace/event_data/2018-11-21-events.csv', '/home/workspace/event_data/2018-11-07-events.csv', '/home/workspace/event_data/2018-11-01-events.csv', '/home/workspace/event_data/2018-11-13-events.csv', '/home/workspace/event_data/2018-11-17-events.csv', '/home/workspace/event_data/2018-11-08-events.csv', '/home/workspace/event_data/2018-11-10-events.csv', '/home/workspace/event_data/2018-11-02-events.csv']\n",
      "['/home/workspace/event_data/.ipynb_checkpoints/2018-11-29-events-checkpoint.csv', '/home/workspace/event_data/.ipynb_checkpoints/2018-11-11-events-checkpoint.csv', '/home/workspace/event_data/.ipynb_checkpoints/2018-11-05-events-checkpoint.csv', '/home/workspace/event_data/.ipynb_checkpoints/2018-11-21-events-checkpoint.csv', '/home/workspace/event_data/.ipynb_checkpoints/2018-11-13-events-checkpoint.csv', '/home/workspace/event_data/.ipynb_checkpoints/2018-11-30-events-checkpoint.csv', '/home/workspace/event_data/.ipynb_checkpoints/2018-11-24-events-checkpoint.csv', '/home/workspace/event_data/.ipynb_checkpoints/2018-11-26-events-checkpoint.csv', '/home/workspace/event_data/.ipynb_checkpoints/2018-11-20-events-checkpoint.csv', '/home/workspace/event_data/.ipynb_checkpoints/2018-11-06-events-checkpoint.csv', '/home/workspace/event_data/.ipynb_checkpoints/2018-11-23-events-checkpoint.csv', '/home/workspace/event_data/.ipynb_checkpoints/2018-11-27-events-checkpoint.csv', '/home/workspace/event_data/.ipynb_checkpoints/2018-11-03-events-checkpoint.csv', '/home/workspace/event_data/.ipynb_checkpoints/2018-11-18-events-checkpoint.csv', '/home/workspace/event_data/.ipynb_checkpoints/2018-11-15-events-checkpoint.csv', '/home/workspace/event_data/.ipynb_checkpoints/2018-11-16-events-checkpoint.csv', '/home/workspace/event_data/.ipynb_checkpoints/2018-11-02-events-checkpoint.csv', '/home/workspace/event_data/.ipynb_checkpoints/2018-11-10-events-checkpoint.csv', '/home/workspace/event_data/.ipynb_checkpoints/2018-11-04-events-checkpoint.csv', '/home/workspace/event_data/.ipynb_checkpoints/2018-11-01-events-checkpoint.csv', '/home/workspace/event_data/.ipynb_checkpoints/2018-11-12-events-checkpoint.csv', '/home/workspace/event_data/.ipynb_checkpoints/2018-11-14-events-checkpoint.csv', '/home/workspace/event_data/.ipynb_checkpoints/2018-11-28-events-checkpoint.csv', '/home/workspace/event_data/.ipynb_checkpoints/2018-11-25-events-checkpoint.csv', '/home/workspace/event_data/.ipynb_checkpoints/2018-11-17-events-checkpoint.csv', '/home/workspace/event_data/.ipynb_checkpoints/2018-11-08-events-checkpoint.csv', '/home/workspace/event_data/.ipynb_checkpoints/2018-11-07-events-checkpoint.csv', '/home/workspace/event_data/.ipynb_checkpoints/2018-11-09-events-checkpoint.csv', '/home/workspace/event_data/.ipynb_checkpoints/2018-11-22-events-checkpoint.csv', '/home/workspace/event_data/.ipynb_checkpoints/2018-11-19-events-checkpoint.csv']\n"
     ]
    }
   ],
   "source": [
    "print(os.getcwd())\n",
    "\n",
    "filepath = os.getcwd() + '/event_data'\n",
    "\n",
    "\n",
    "for root, dirs, files in os.walk(filepath):\n",
    "    file_path_list = glob.glob(os.path.join(root,'*'))\n",
    "    print(file_path_list)"
   ]
  },
  {
   "cell_type": "markdown",
   "metadata": {},
   "source": [
    "#### Processing the files to create the data file csv that will be used for Apache Casssandra tables"
   ]
  },
  {
   "cell_type": "code",
   "execution_count": 3,
   "metadata": {},
   "outputs": [],
   "source": [
    "full_data_rows_list = [] \n",
    "    \n",
    "\n",
    "for f in file_path_list:\n",
    "\n",
    "\n",
    "    with open(f, 'r', encoding = 'utf8', newline='') as csvfile: \n",
    "        # creating a csv reader object \n",
    "        csvreader = csv.reader(csvfile) \n",
    "        next(csvreader)\n",
    "     \n",
    "        for line in csvreader:\n",
    "            #print(line)\n",
    "            full_data_rows_list.append(line) \n",
    "            \n",
    "\n",
    "csv.register_dialect('myDialect', quoting=csv.QUOTE_ALL, skipinitialspace=True)\n",
    "\n",
    "with open('event_datafile_new.csv', 'w', encoding = 'utf8', newline='') as f:\n",
    "    writer = csv.writer(f, dialect='myDialect')\n",
    "    writer.writerow(['artist','firstName','gender','itemInSession','lastName','length',\\\n",
    "                'level','location','sessionId','song','userId'])\n",
    "    for row in full_data_rows_list:\n",
    "        if (row[0] == ''):\n",
    "            continue\n",
    "        writer.writerow((row[0], row[2], row[3], row[4], row[5], row[6], row[7], row[8], row[12], row[13], row[16]))\n"
   ]
  },
  {
   "cell_type": "code",
   "execution_count": 4,
   "metadata": {},
   "outputs": [
    {
     "name": "stdout",
     "output_type": "stream",
     "text": [
      "6821\n"
     ]
    }
   ],
   "source": [
    "with open('event_datafile_new.csv', 'r', encoding = 'utf8') as f:\n",
    "    print(sum(1 for line in f))"
   ]
  },
  {
   "cell_type": "markdown",
   "metadata": {},
   "source": [
    "# Part II. Complete the Apache Cassandra coding portion of your project. \n",
    "\n",
    "## Now you are ready to work with the CSV file titled <font color=red>event_datafile_new.csv</font>, located within the Workspace directory.  The event_datafile_new.csv contains the following columns: \n",
    "- artist \n",
    "- firstName of user\n",
    "- gender of user\n",
    "- item number in session\n",
    "- last name of user\n",
    "- length of the song\n",
    "- level (paid or free song)\n",
    "- location of the user\n",
    "- sessionId\n",
    "- song title\n",
    "- userId\n",
    "\n",
    "The image below is a screenshot of what the denormalized data should appear like in the <font color=red>**event_datafile_new.csv**</font> after the code above is run:<br>\n",
    "\n",
    "<img src=\"images/image_event_datafile_new.jpg\">"
   ]
  },
  {
   "cell_type": "markdown",
   "metadata": {},
   "source": [
    "## Begin writing your Apache Cassandra code in the cells below"
   ]
  },
  {
   "cell_type": "markdown",
   "metadata": {},
   "source": [
    "#### Creating a Cluster"
   ]
  },
  {
   "cell_type": "code",
   "execution_count": 5,
   "metadata": {},
   "outputs": [],
   "source": [
    "from cassandra.cluster import Cluster\n",
    "cluster = Cluster(['127.0.0.1'])\n",
    "\n",
    "session = cluster.connect()"
   ]
  },
  {
   "cell_type": "markdown",
   "metadata": {},
   "source": [
    "#### Create Keyspace"
   ]
  },
  {
   "cell_type": "code",
   "execution_count": 6,
   "metadata": {},
   "outputs": [
    {
     "data": {
      "text/plain": [
       "<cassandra.cluster.ResultSet at 0x7f596caead68>"
      ]
     },
     "execution_count": 6,
     "metadata": {},
     "output_type": "execute_result"
    }
   ],
   "source": [
    "session.execute('''CREATE KEYSPACE IF NOT EXISTS udacity WITH REPLICATION = \n",
    "                {'class' : 'SimpleStrategy', 'replication_factor' : 1}''')"
   ]
  },
  {
   "cell_type": "markdown",
   "metadata": {},
   "source": [
    "#### Set Keyspace"
   ]
  },
  {
   "cell_type": "code",
   "execution_count": 7,
   "metadata": {},
   "outputs": [],
   "source": [
    "session.set_keyspace('udacity')"
   ]
  },
  {
   "cell_type": "markdown",
   "metadata": {},
   "source": [
    "## Create queries to ask the following three questions of the data\n",
    "\n",
    "### 1. Give me the artist, song title and song's length in the music app history that was heard during  sessionId = 338, and itemInSession  = 4\n",
    "\n",
    "\n",
    "### 2. Give me only the following: name of artist, song (sorted by itemInSession) and user (first and last name) for userid = 10, sessionid = 182\n",
    "    \n",
    "\n",
    "### 3. Give me every user name (first and last) in my music app history who listened to the song 'All Hands Against His Own'\n",
    "\n",
    "\n"
   ]
  },
  {
   "cell_type": "code",
   "execution_count": 20,
   "metadata": {},
   "outputs": [
    {
     "data": {
      "text/plain": [
       "'\\nCreates the table for query1 with primary key on session_id and session_item\\n\\n'"
      ]
     },
     "execution_count": 20,
     "metadata": {},
     "output_type": "execute_result"
    }
   ],
   "source": [
    "query1_table=\"\"\" CREATE TABLE IF NOT EXISTS song_artist_by_session \n",
    "(session_id int, session_item int, artist text, song_title text, song_lenght float, PRIMARY KEY (session_id, session_item))\n",
    "\"\"\"\n",
    "session.execute(query1_table)\n",
    "\n",
    "'''\n",
    "Creates the table for query1 with primary key on session_id and session_item\n",
    "\n",
    "'''"
   ]
  },
  {
   "cell_type": "code",
   "execution_count": 23,
   "metadata": {},
   "outputs": [
    {
     "data": {
      "text/plain": [
       "'\\nReads the CSV-files and imports values into the songs table\\n\\n'"
      ]
     },
     "execution_count": 23,
     "metadata": {},
     "output_type": "execute_result"
    }
   ],
   "source": [
    "file = 'event_datafile_new.csv'\n",
    "\n",
    "with open(file, encoding = 'utf8') as f:\n",
    "    csvreader = csv.reader(f)\n",
    "    next(csvreader) # skip header\n",
    "    for line in csvreader:\n",
    "        query = \"INSERT INTO song_artist_by_session (session_id, session_item,artist, song_title, song_lenght)\"\n",
    "        query = query + \"VALUES (%s, %s, %s, %s, %s)\"\n",
    "        session.execute(query, (int(line[8]), int(line[3]),line[0], line[9], float(line[5])))\n",
    "\n",
    "'''\n",
    "Reads the CSV-files and imports values into the songs table\n",
    "\n",
    "'''\n",
    "        "
   ]
  },
  {
   "cell_type": "markdown",
   "metadata": {},
   "source": [
    "#### Do a SELECT to verify that the data have been inserted into each table"
   ]
  },
  {
   "cell_type": "code",
   "execution_count": 24,
   "metadata": {
    "scrolled": true
   },
   "outputs": [
    {
     "name": "stdout",
     "output_type": "stream",
     "text": [
      "Faithless Music Matters (Mark Knight Dub) 495.30731201171875 338 4\n"
     ]
    },
    {
     "data": {
      "text/plain": [
       "'\\nSelects every needed information (artist name, song title, lenght of the song) from the songs table.\\nAdditionally the session ID and the item in session is provided for validation.\\n'"
      ]
     },
     "execution_count": 24,
     "metadata": {},
     "output_type": "execute_result"
    }
   ],
   "source": [
    "query1_select = \"\"\"\n",
    "SELECT artist, song_title, song_lenght, session_id, session_item FROM song_artist_by_session\n",
    "WHERE session_id=338\n",
    "AND session_item = 4\n",
    "\"\"\"\n",
    "rows = session.execute(query1_select)\n",
    "for row in rows:\n",
    "    print (row.artist, row.song_title, row.song_lenght, row.session_id, row.session_item)\n",
    "\n",
    "'''\n",
    "Selects every needed information (artist name, song title, lenght of the song) from the songs table.\n",
    "Additionally the session ID and the item in session is provided for validation.\n",
    "'''\n",
    "    "
   ]
  },
  {
   "cell_type": "markdown",
   "metadata": {},
   "source": [
    "### COPY AND REPEAT THE ABOVE THREE CELLS FOR EACH OF THE THREE QUESTIONS"
   ]
  },
  {
   "cell_type": "code",
   "execution_count": 25,
   "metadata": {},
   "outputs": [
    {
     "data": {
      "text/plain": [
       "'\\nCreates the table for query1 with primary key on user_id and session_id; additionally session_item is also provided int he PRIMARY KEY argument for sorting reasons.\\n'"
      ]
     },
     "execution_count": 25,
     "metadata": {},
     "output_type": "execute_result"
    }
   ],
   "source": [
    "query2_table=\"\"\" CREATE TABLE IF NOT EXISTS artist_by_user_sorted \n",
    "(user_id int, session_id int, session_item int, artist text, song_title text, user_name_first text, user_name_last text, PRIMARY KEY((user_id, session_id), session_item))\n",
    "\"\"\"\n",
    "session.execute(query2_table)      \n",
    "'''\n",
    "Creates the table for query1 with primary key on user_id and session_id; additionally session_item is also provided int he PRIMARY KEY argument for sorting reasons.\n",
    "'''"
   ]
  },
  {
   "cell_type": "code",
   "execution_count": 26,
   "metadata": {},
   "outputs": [],
   "source": [
    "file = 'event_datafile_new.csv'\n",
    "\n",
    "with open(file, encoding = 'utf8') as f:\n",
    "    csvreader = csv.reader(f)\n",
    "    next(csvreader) # skip header\n",
    "    for line in csvreader:\n",
    "        query = \"INSERT INTO artist_by_user_sorted  (user_id, session_id, session_item, artist, song_title, user_name_first, user_name_last)\"\n",
    "        query = query + \"VALUES (%s, %s, %s, %s, %s, %s, %s)\"\n",
    "        session.execute(query, (int(line[10]), int(line[8]), int(line[3]),line[0], line[9], line[1], line[4]))\n",
    "        "
   ]
  },
  {
   "cell_type": "code",
   "execution_count": 27,
   "metadata": {},
   "outputs": [
    {
     "name": "stdout",
     "output_type": "stream",
     "text": [
      "Down To The Bone Keep On Keepin' On Sylvie Cruz 0\n",
      "Three Drives Greece 2000 Sylvie Cruz 1\n",
      "Sebastien Tellier Kilometer Sylvie Cruz 2\n",
      "Lonnie Gordon Catch You Baby (Steve Pitron & Max Sanna Radio Edit) Sylvie Cruz 3\n"
     ]
    },
    {
     "data": {
      "text/plain": [
       "'\\nSelects every needed information (artist name, song title, the first and last name of the user) from the artists table.\\nAdditionally the information on item in session is provided for validation, that the output is sorted properly.\\n'"
      ]
     },
     "execution_count": 27,
     "metadata": {},
     "output_type": "execute_result"
    }
   ],
   "source": [
    "query2_select = \"\"\"\n",
    "SELECT artist, song_title, user_name_first, user_name_last, session_item FROM artist_by_user_sorted \n",
    "WHERE user_id=10\n",
    "AND session_id = 182\n",
    "\"\"\"\n",
    "rows = session.execute(query2_select)\n",
    "for row in rows:\n",
    "    print (row.artist, row.song_title, row.user_name_first, row.user_name_last, row.session_item)\n",
    "    \n",
    "'''\n",
    "Selects every needed information (artist name, song title, the first and last name of the user) from the artists table.\n",
    "Additionally the information on item in session is provided for validation, that the output is sorted properly.\n",
    "'''"
   ]
  },
  {
   "cell_type": "code",
   "execution_count": 28,
   "metadata": {},
   "outputs": [
    {
     "data": {
      "text/plain": [
       "'\\nCreates the table for query3 with primary key on song_title;\\nadditionally the last name and the first name of a user is provided in the PRIMARY KEY argument for sorting reasons (I just made that out of interest).\\n'"
      ]
     },
     "execution_count": 28,
     "metadata": {},
     "output_type": "execute_result"
    }
   ],
   "source": [
    "query3_table=\"\"\" CREATE TABLE IF NOT EXISTS user_filtered \n",
    "(song_title text, user_id int, user_name_last text, user_name_first text, PRIMARY KEY(song_title, user_id))\n",
    "\"\"\"    \n",
    "session.execute(query3_table)\n",
    "'''\n",
    "Creates the table for query3 with primary key on song_title;\n",
    "additionally the last name and the first name of a user is provided in the PRIMARY KEY argument for sorting reasons (I just made that out of interest).\n",
    "'''"
   ]
  },
  {
   "cell_type": "code",
   "execution_count": 17,
   "metadata": {},
   "outputs": [],
   "source": [
    "\n",
    "file = 'event_datafile_new.csv'\n",
    "\n",
    "with open(file, encoding = 'utf8') as f:\n",
    "    csvreader = csv.reader(f)\n",
    "    next(csvreader) # skip header\n",
    "    for line in csvreader:\n",
    "        query = \"INSERT INTO user_filtered (song_title, user_id, user_name_first, user_name_last)\"\n",
    "        query = query + \"VALUES (%s, %s, %s, %s)\"\n",
    "        session.execute(query, (line[9], int(line[10]), line[1], line[4]))\n",
    "        "
   ]
  },
  {
   "cell_type": "code",
   "execution_count": 29,
   "metadata": {},
   "outputs": [
    {
     "name": "stdout",
     "output_type": "stream",
     "text": [
      "Jacqueline Lynch All Hands Against His Own\n",
      "Tegan Levine All Hands Against His Own\n",
      "Sara Johnson All Hands Against His Own\n"
     ]
    },
    {
     "data": {
      "text/plain": [
       "'\\nSelects every needed information (the first and last name of the user) from the users table.\\nAdditionally the song title is provided for validation, that the output is filtered properly.\\n'"
      ]
     },
     "execution_count": 29,
     "metadata": {},
     "output_type": "execute_result"
    }
   ],
   "source": [
    "query3_select = \"\"\"\n",
    "SELECT song_title, user_name_first, user_name_last FROM user_filtered\n",
    "WHERE song_title='All Hands Against His Own'\n",
    "\"\"\"\n",
    "rows = session.execute(query3_select)\n",
    "for row in rows:\n",
    "    print (row.user_name_first, row.user_name_last, row.song_title)\n",
    "\n",
    "'''\n",
    "Selects every needed information (the first and last name of the user) from the users table.\n",
    "Additionally the song title is provided for validation, that the output is filtered properly.\n",
    "'''"
   ]
  },
  {
   "cell_type": "markdown",
   "metadata": {},
   "source": [
    "### Drop the tables before closing out the sessions"
   ]
  },
  {
   "cell_type": "code",
   "execution_count": 31,
   "metadata": {},
   "outputs": [
    {
     "data": {
      "text/plain": [
       "<cassandra.cluster.ResultSet at 0x7f59418eba90>"
      ]
     },
     "execution_count": 31,
     "metadata": {},
     "output_type": "execute_result"
    }
   ],
   "source": [
    "session.execute(\"DROP TABLE IF EXISTS song_artist_by_session\")\n",
    "session.execute(\"DROP TABLE IF EXISTS artist_by_user_sorted\")\n",
    "session.execute(\"DROP TABLE IF EXISTS user_filtered\")"
   ]
  },
  {
   "cell_type": "code",
   "execution_count": null,
   "metadata": {},
   "outputs": [],
   "source": []
  },
  {
   "cell_type": "markdown",
   "metadata": {},
   "source": [
    "### Close the session and cluster connection¶"
   ]
  },
  {
   "cell_type": "code",
   "execution_count": 32,
   "metadata": {},
   "outputs": [],
   "source": [
    "session.shutdown()\n",
    "cluster.shutdown()"
   ]
  },
  {
   "cell_type": "code",
   "execution_count": null,
   "metadata": {},
   "outputs": [],
   "source": []
  },
  {
   "cell_type": "code",
   "execution_count": null,
   "metadata": {},
   "outputs": [],
   "source": []
  }
 ],
 "metadata": {
  "kernelspec": {
   "display_name": "Python 3",
   "language": "python",
   "name": "python3"
  },
  "language_info": {
   "codemirror_mode": {
    "name": "ipython",
    "version": 3
   },
   "file_extension": ".py",
   "mimetype": "text/x-python",
   "name": "python",
   "nbconvert_exporter": "python",
   "pygments_lexer": "ipython3",
   "version": "3.7.6"
  }
 },
 "nbformat": 4,
 "nbformat_minor": 4
}
